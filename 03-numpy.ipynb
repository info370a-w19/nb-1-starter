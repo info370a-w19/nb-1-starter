{
 "cells": [
  {
   "cell_type": "markdown",
   "metadata": {},
   "source": [
    "# Numpy"
   ]
  },
  {
   "cell_type": "markdown",
   "metadata": {},
   "source": [
    "The `numpy` package (short for _\"numerical python\"_) provides an efficient interface for interacting with arrays of values in python. As you complete this notebook, I **strongly suggest** that you read [this chapter](https://jakevdp.github.io/PythonDataScienceHandbook/02.00-introduction-to-numpy.html) in the _Python Data Science Handbook_, which describes the package in detail (you will need to read it to identify the appropriate syntax). The `numpy` array is at the heart of many data science packages and operations, so understanding how to efficiently compute values using the data type is key to doing data science projects.\n",
    "\n",
    "In this notebook, make sure to both complete all code sections, and answer all questions, such as this one:"
   ]
  },
  {
   "cell_type": "markdown",
   "metadata": {},
   "source": [
    "**Question**: Why might we use NumPy arrays instead of the built-in `array` module in Python?\n",
    "\n",
    "(_your answer here_)"
   ]
  },
  {
   "cell_type": "markdown",
   "metadata": {},
   "source": [
    "## Creating Arrays\n",
    "In this section, you'll create arrays using various numpy methods. See [this section](https://jakevdp.github.io/PythonDataScienceHandbook/02.01-understanding-data-types.html#Creating-Arrays-from-Python-Lists) for reference."
   ]
  },
  {
   "cell_type": "code",
   "execution_count": 1,
   "metadata": {},
   "outputs": [],
   "source": [
    "# Import numpy as the conventional \"np\""
   ]
  },
  {
   "cell_type": "code",
   "execution_count": 2,
   "metadata": {},
   "outputs": [],
   "source": [
    "# Create a NumPy array with 5 integers in it."
   ]
  },
  {
   "cell_type": "code",
   "execution_count": 3,
   "metadata": {},
   "outputs": [],
   "source": [
    "# Create an array of 5 zeros, specifying the data type as \"int\""
   ]
  },
  {
   "cell_type": "code",
   "execution_count": 4,
   "metadata": {},
   "outputs": [],
   "source": [
    "# Create an array of all odd integers between 1 and 50."
   ]
  },
  {
   "cell_type": "code",
   "execution_count": 5,
   "metadata": {},
   "outputs": [],
   "source": [
    "# Create an array of 101 values that are evenly spaced between 0 and 10 (i.e., 0, .1, .2....., 9.9, 10)"
   ]
  },
  {
   "cell_type": "code",
   "execution_count": 6,
   "metadata": {},
   "outputs": [],
   "source": [
    "# Create an array of 10 normally distributed values with a mean of 100 and a standard deviation of 5."
   ]
  },
  {
   "cell_type": "markdown",
   "metadata": {},
   "source": [
    "**Question**: How many data types can one NumPy array contain? How many can a list contain?\n",
    "\n",
    "(_your answer here_)"
   ]
  },
  {
   "cell_type": "markdown",
   "metadata": {},
   "source": [
    "## Accessing and Slicing Arrays"
   ]
  },
  {
   "cell_type": "markdown",
   "metadata": {},
   "source": [
    "**Question**: What number does the indexing for a NumPy array start at?\n",
    "\n",
    "_your answer here_"
   ]
  },
  {
   "cell_type": "code",
   "execution_count": 7,
   "metadata": {},
   "outputs": [],
   "source": [
    "# Using your array of random values, access the element in the 3rd position in two ways: \n",
    "# 1) using positive indices \n",
    "\n",
    "# 2) using negative indices.\n"
   ]
  },
  {
   "cell_type": "markdown",
   "metadata": {},
   "source": [
    "**Question**: What is array slicing? Are all three arguments (start, stop, step) required to use it? \n",
    "\n",
    "_your answer here_"
   ]
  },
  {
   "cell_type": "code",
   "execution_count": 8,
   "metadata": {},
   "outputs": [],
   "source": [
    "# Create and store a one dimensional array with the integers 0-9. \n",
    "# Use a built in functionality of NumPy instead of specifying each number individually."
   ]
  },
  {
   "cell_type": "code",
   "execution_count": 9,
   "metadata": {},
   "outputs": [],
   "source": [
    "# Using slicing to print out a subarray of the previous array with every 3rd element in it."
   ]
  },
  {
   "cell_type": "markdown",
   "metadata": {},
   "source": [
    "**Question**: Subarrays are \"no-copy\" views of an original array. If you want a slice that you can modify without the modification of the slice changing an original array, what can you do?\n",
    "\n",
    "_your answer here_\n"
   ]
  },
  {
   "cell_type": "markdown",
   "metadata": {},
   "source": [
    "# Computation on NumPy Arrays"
   ]
  },
  {
   "cell_type": "markdown",
   "metadata": {},
   "source": [
    "**Question**: Can you use basic arithmetic operators on NumPy arrays?\n",
    "\n",
    "_your answer here_"
   ]
  },
  {
   "cell_type": "code",
   "execution_count": 10,
   "metadata": {},
   "outputs": [],
   "source": [
    "# Create an array of 5 values, then add the scaler \"1\" to the array"
   ]
  },
  {
   "cell_type": "code",
   "execution_count": 11,
   "metadata": {},
   "outputs": [],
   "source": [
    "# Take the __natural log__ (a logarithm to the base e, which is about 2.7182) \n",
    "# of all values in an any one dimensional array."
   ]
  },
  {
   "cell_type": "code",
   "execution_count": 12,
   "metadata": {},
   "outputs": [],
   "source": [
    "# Using the built in methods for a numpy array, compute the min, max, standard deviaion, mean, and variance\n",
    "# of your array"
   ]
  },
  {
   "cell_type": "markdown",
   "metadata": {},
   "source": [
    "# Comparison operators"
   ]
  },
  {
   "cell_type": "markdown",
   "metadata": {},
   "source": [
    "**Question**: How are the letter-based `and` and `or` operators and the `|` and `&` operators different in Python?\n",
    "\n",
    "_your answer here_"
   ]
  },
  {
   "cell_type": "code",
   "execution_count": 13,
   "metadata": {},
   "outputs": [],
   "source": [
    "# Make a one dimensional numpy array with 20 random values between 0.0 and 4.0 to represent student grades in a course. \n",
    "# Then, round the values so that there is on one decimal place"
   ]
  },
  {
   "cell_type": "code",
   "execution_count": 14,
   "metadata": {},
   "outputs": [],
   "source": [
    "# How many of the students' grades are not between a 3.0 and 3.8?\n",
    "# Hint: use a comparion operator to return true/false values, and then sum() them"
   ]
  },
  {
   "cell_type": "code",
   "execution_count": 15,
   "metadata": {},
   "outputs": [],
   "source": [
    "# How many of the students got a grade between 3.0 and 3.5?"
   ]
  },
  {
   "cell_type": "code",
   "execution_count": 16,
   "metadata": {},
   "outputs": [],
   "source": [
    "# Did any students get (exactly) a 3.8?"
   ]
  },
  {
   "cell_type": "code",
   "execution_count": 17,
   "metadata": {},
   "outputs": [],
   "source": [
    "# Using a boolean array as a mask, select all of the grades that are between 3.0 and 3.5."
   ]
  }
 ],
 "metadata": {
  "kernelspec": {
   "display_name": "Python 3",
   "language": "python",
   "name": "python3"
  },
  "language_info": {
   "codemirror_mode": {
    "name": "ipython",
    "version": 3
   },
   "file_extension": ".py",
   "mimetype": "text/x-python",
   "name": "python",
   "nbconvert_exporter": "python",
   "pygments_lexer": "ipython3",
   "version": "3.6.5"
  }
 },
 "nbformat": 4,
 "nbformat_minor": 2
}

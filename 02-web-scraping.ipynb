{
 "cells": [
  {
   "cell_type": "markdown",
   "metadata": {},
   "source": [
    "# Web scraping\n",
    "A common data collection task is to collect data from web pages and transform them into an analysis ready format. In this exercise, you'll be scraping the [Informatics Course Information](https://www.washington.edu/students/crscat/info.html) page to ask some basic questions about the courses offered. To do so, we'll be using the [beautiful soup](https://www.crummy.com/software/BeautifulSoup/bs4/doc/) package, which should have been included as part of the Anaconda python distribtuion. A great starting place for understanding the package is [this tutorial](https://www.dataquest.io/blog/web-scraping-tutorial-python/)."
   ]
  },
  {
   "cell_type": "markdown",
   "metadata": {},
   "source": [
    "## Set up\n",
    "In order to use packages in a script (that are downloaded as part of the Anaconda distribution), you will need to `import` them. There are a variety of approaches for importing packages: you can import an entire package, or import only some of its functions. It's common to import a package as an abbreviation for easier use with this syntax:\n",
    "\n",
    "```\n",
    "# Import a package as an abbreviation\n",
    "import requests as r\n",
    "\n",
    "# Only import some functions (as abbreviations)\n",
    "from bs4 import BeautifulSoup as bs, SoupStrainer as ss\n",
    "```"
   ]
  },
  {
   "cell_type": "code",
   "execution_count": 1,
   "metadata": {},
   "outputs": [],
   "source": [
    "# Import the `requests` and `BeautifulSoup` packages using the code above"
   ]
  },
  {
   "cell_type": "markdown",
   "metadata": {},
   "source": [
    "## Scraping Content"
   ]
  },
  {
   "cell_type": "code",
   "execution_count": 2,
   "metadata": {},
   "outputs": [],
   "source": [
    "# Use the `get` method of the requests library to fetch the page content"
   ]
  },
  {
   "cell_type": "code",
   "execution_count": 3,
   "metadata": {},
   "outputs": [],
   "source": [
    "# Use bs to parse the HTML returned"
   ]
  },
  {
   "cell_type": "code",
   "execution_count": 4,
   "metadata": {},
   "outputs": [],
   "source": [
    "# We can now use the `find_all` method to find all course title elements\n",
    "# Store the *text* of the course titles in variable\n",
    "# Hint: You'll need to review the HTML to figure out how to identify them\n",
    "# Hint: use a list comprehension!"
   ]
  },
  {
   "cell_type": "code",
   "execution_count": 5,
   "metadata": {},
   "outputs": [],
   "source": [
    "# We can now use the `find_all` method to find all course description elements\n",
    "# Store the *text* of the course description in variable\n",
    "# Hint: You'll need to review the HTML to figure out how to identify them\n",
    "# Hint: you may have to skip certain elements..."
   ]
  },
  {
   "cell_type": "markdown",
   "metadata": {},
   "source": [
    "## Data processing\n",
    "Now that you have the data, we'll re-structure it so that we can easily ask questions about the data"
   ]
  },
  {
   "cell_type": "code",
   "execution_count": 6,
   "metadata": {},
   "outputs": [],
   "source": [
    "# Create a dictionary where the *keys are course numbers*, and the values are *dictionaries* \n",
    "# with information about that course. Specifically, include the following values: \n",
    "#     - \"title\": title of the course (from above)\n",
    "#     - \"description\": description of the course (from above)\n",
    "#     - \"credits\": can be a string of the number of credits (some are a range)\n",
    "#     - \"level\": 100, 200, 300, or 400 (an *integer*)\n",
    "# Hint: start with an empty dictionary, and use a loop, keeping track of the *index* using the `enumerate` method\n",
    "# Hint: think of creative ways to get the credits/level from your string \n",
    "# the `.find` method can help you find characters in a string"
   ]
  },
  {
   "cell_type": "markdown",
   "metadata": {},
   "source": [
    "## Asking questions of the data\n",
    "Now we can filter the dataset to ask questions of interest"
   ]
  },
  {
   "cell_type": "code",
   "execution_count": 7,
   "metadata": {},
   "outputs": [],
   "source": [
    "# How many courses are 300 level courses?\n",
    "# Hint: use a list comprehension! "
   ]
  },
  {
   "cell_type": "code",
   "execution_count": 8,
   "metadata": {},
   "outputs": [],
   "source": [
    "# Write a function that takes in your courses object and a course level (100, 200, etc.) and \n",
    "# returns all of the *course titles* of courses that are that level\n",
    "\n",
    "# Make sure to use a doc string to document your function"
   ]
  },
  {
   "cell_type": "code",
   "execution_count": 9,
   "metadata": {},
   "outputs": [],
   "source": [
    "# Demonstrate that your function works by passing in the `courses` object and a course level"
   ]
  }
 ],
 "metadata": {
  "kernelspec": {
   "display_name": "Python 3",
   "language": "python",
   "name": "python3"
  },
  "language_info": {
   "codemirror_mode": {
    "name": "ipython",
    "version": 3
   },
   "file_extension": ".py",
   "mimetype": "text/x-python",
   "name": "python",
   "nbconvert_exporter": "python",
   "pygments_lexer": "ipython3",
   "version": "3.6.5"
  }
 },
 "nbformat": 4,
 "nbformat_minor": 2
}

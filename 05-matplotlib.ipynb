{
 "cells": [
  {
   "cell_type": "markdown",
   "metadata": {},
   "source": [
    "# Matplotlib\n",
    "In Python, the `matplotlib` package is the leading static visualization package (you can think of it as Python's `ggplot2`). This notebook will walk you through some of the basics of plotting with `matplotlib` (a popular graphics package). As you complete this notebook, I **strongly suggest** that you read [this chapter](https://jakevdp.github.io/PythonDataScienceHandbook/04.00-introduction-to-matplotlib.html) in the _Python Data Science Handbook_, which describes the package in detail (you will need to read it to identify the appropriate syntax)."
   ]
  },
  {
   "cell_type": "markdown",
   "metadata": {},
   "source": [
    "## Loading Data"
   ]
  },
  {
   "cell_type": "code",
   "execution_count": 1,
   "metadata": {},
   "outputs": [],
   "source": [
    "# Import the pandas, numpy, and matplotlib.pyplot packages (as pd, np, and plt respectively)"
   ]
  },
  {
   "cell_type": "code",
   "execution_count": 2,
   "metadata": {},
   "outputs": [],
   "source": [
    "# Use pandas to load the `houses.csv` file you created in 04-pandas"
   ]
  },
  {
   "cell_type": "markdown",
   "metadata": {},
   "source": [
    "## Visualizing data\n",
    "In this section, we'll use `matplotlib` to create a few plots. You may want to reference the [documentation](https://matplotlib.org/contents.html) or [examples](https://matplotlib.org/examples/)"
   ]
  },
  {
   "cell_type": "code",
   "execution_count": 3,
   "metadata": {},
   "outputs": [],
   "source": [
    "# Create a histogram of prices in 2010 using `plt.hist()`, then `plt.show()`"
   ]
  },
  {
   "cell_type": "code",
   "execution_count": 4,
   "metadata": {},
   "outputs": [],
   "source": [
    "# The columns are too close together in the above plot\n",
    "# Use suitable arguments to change the width of the bars in the histogram; also change the color of the bars to green\n",
    "# Refer https://matplotlib.org/api/_as_gen/matplotlib.pyplot.hist.html"
   ]
  },
  {
   "cell_type": "code",
   "execution_count": 5,
   "metadata": {},
   "outputs": [],
   "source": [
    "# Labeling your plots appropriately is a very essential component of data visualization\n",
    "# Label the axes in your histogram and give it a suitable title\n",
    "# Hint: https://github.com/jakevdp/PythonDataScienceHandbook/blob/master/notebooks/04.01-Simple-Line-Plots.ipynb"
   ]
  },
  {
   "cell_type": "code",
   "execution_count": 6,
   "metadata": {},
   "outputs": [],
   "source": [
    "# The above histogram has 10 bins (bars). \n",
    "# Modify the number of bins to 20, this allows you to view the data with more granularity"
   ]
  },
  {
   "cell_type": "code",
   "execution_count": 7,
   "metadata": {},
   "outputs": [],
   "source": [
    "# Now, Create a histogram of the 2018 housing prices with similar styles and appropriate labels/title"
   ]
  },
  {
   "cell_type": "code",
   "execution_count": 8,
   "metadata": {},
   "outputs": [],
   "source": [
    "# Now, plot overlapping histograms for both 2010 and 2018 house prices.\n",
    "# Set a different color for each year, and use alpha = 0.4\n",
    "# Make sure to include a \"label\" for each historgram so that you can use plt.legend() to show the legend!\n",
    "\n",
    "\n",
    "# A good reference: https://github.com/jakevdp/PythonDataScienceHandbook/blob/8a34a4f653bdbdc01415a94dc20d4e9b97438965/notebooks/04.05-Histograms-and-Binnings.ipynb"
   ]
  },
  {
   "cell_type": "markdown",
   "metadata": {},
   "source": [
    "# Scatterplots"
   ]
  },
  {
   "cell_type": "code",
   "execution_count": 9,
   "metadata": {},
   "outputs": [],
   "source": [
    "# Create a scatterplot of prices in 2010 v.s. prices in 2018 using `plt.scatter()`\n",
    "# As always, include appropriate axis lables and title"
   ]
  },
  {
   "cell_type": "markdown",
   "metadata": {},
   "source": [
    "#### In order to better see the overlapping results, we'll use the alpha keyword to adjust the transparency level."
   ]
  },
  {
   "cell_type": "code",
   "execution_count": 10,
   "metadata": {},
   "outputs": [],
   "source": [
    "# Using the alpha argument, change the transparency of the points in your scatterplot\n"
   ]
  },
  {
   "cell_type": "markdown",
   "metadata": {},
   "source": [
    "#### We will also learn how to change the color gradient based on the house prices"
   ]
  },
  {
   "cell_type": "code",
   "execution_count": 11,
   "metadata": {},
   "outputs": [],
   "source": [
    "# Use the *c* argument, and assigning the value of price_2010, change the color scale in the scatterplot\n",
    "# Add plt.legend() and plt.colorbar() to see the colors assigned\n",
    "# (not necessarily a recommended visualization technique for this data, but a good skill to know)\n"
   ]
  },
  {
   "cell_type": "code",
   "execution_count": 12,
   "metadata": {},
   "outputs": [],
   "source": [
    "# The plot above looks squished -- to fix this, initialize your plot first with plot.figure() and set\n",
    "# the size of the plot to adjust the width and height approrpiately\n",
    "# Use the *c* argument, and assigning the value of price_2018, change the color scale in the scatterplot\n",
    "# Add plt.legend() and plt.colorbar() to see the colors assigned\n"
   ]
  }
 ],
 "metadata": {
  "kernelspec": {
   "display_name": "Python 3",
   "language": "python",
   "name": "python3"
  },
  "language_info": {
   "codemirror_mode": {
    "name": "ipython",
    "version": 3
   },
   "file_extension": ".py",
   "mimetype": "text/x-python",
   "name": "python",
   "nbconvert_exporter": "python",
   "pygments_lexer": "ipython3",
   "version": "3.6.5"
  }
 },
 "nbformat": 4,
 "nbformat_minor": 2
}

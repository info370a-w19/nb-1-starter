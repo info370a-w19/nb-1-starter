{
 "cells": [
  {
   "cell_type": "markdown",
   "metadata": {},
   "source": [
    "# Pandas Basics\n",
    "In python, the `pandas` package is the most popular data-frame (i.e., 2-dimensional) manipulation framework. You can think of it like `dplyr` for python. This notebook will walk you through some of the basics of working with dataframes. As you complete this notebook, I **strongly suggest** that you read [this chapter](https://jakevdp.github.io/PythonDataScienceHandbook/03.00-introduction-to-pandas.html) in the _Python Data Science Handbook_, which describes the package in detail (you will need to read it to identify the appropriate syntax)."
   ]
  },
  {
   "cell_type": "markdown",
   "metadata": {},
   "source": [
    "## Creating DataFrames\n",
    "Let's create a dataframe representing 1000 houses that has the following columns:\n",
    "- `house_id`: This should be `\"house_N\"`, where `N` is the house number (i.e., `house_1`)\n",
    "- `neighborhood`: There should be 5 neighborhoods, `\"a\"` through `\"e\"` (200 of each)\n",
    "- `price_2010`: The price (in USD) of the house in 2010 (can be _float_)\n",
    "- `price_2018`: The price (in USD) of the house in 2010 (can be _float_)\n",
    "\n",
    "This [section](https://jakevdp.github.io/PythonDataScienceHandbook/03.01-introducing-pandas-objects.html#Constructing-DataFrame-objects) may be helpful to review."
   ]
  },
  {
   "cell_type": "code",
   "execution_count": 1,
   "metadata": {},
   "outputs": [],
   "source": [
    "# Import the pandas and numpy packages (as pd and np, respectively)"
   ]
  },
  {
   "cell_type": "code",
   "execution_count": 2,
   "metadata": {},
   "outputs": [],
   "source": [
    "# Create a _list_ of houses (\"house_N\") 1 through 1000 (hint: use a list comprehension)"
   ]
  },
  {
   "cell_type": "code",
   "execution_count": 3,
   "metadata": {},
   "outputs": [],
   "source": [
    "# Create a list of neighborhoods `a` thorugh `e` that is 1000 elements long. Hint: *multiply* a list by 200"
   ]
  },
  {
   "cell_type": "code",
   "execution_count": 4,
   "metadata": {},
   "outputs": [],
   "source": [
    "# Creaet a list of 1000 home prices (for the year 2010) that range uniformly from 50000 to 400000 using np.random"
   ]
  },
  {
   "cell_type": "code",
   "execution_count": 5,
   "metadata": {},
   "outputs": [],
   "source": [
    "# Create a list of 1000 home prices (for the year 2018) by multiplying each 2010 price by a (different) random number\n",
    "# The number should be drawn randomly from a normal distribution with mean 1.5 and standard deviation .05"
   ]
  },
  {
   "cell_type": "code",
   "execution_count": 6,
   "metadata": {},
   "outputs": [],
   "source": [
    "# Create a dataframe `houses` with each list above as a column. Use the pd.DataFrame() function"
   ]
  },
  {
   "cell_type": "code",
   "execution_count": 7,
   "metadata": {},
   "outputs": [],
   "source": [
    "# Write your `houses` dataframe to a .csv file \"houses.csv\", excluding row numbers"
   ]
  },
  {
   "cell_type": "markdown",
   "metadata": {},
   "source": [
    "# Accessing DataFrames\n",
    "In this section, you'll extract and compute information of interest using dataframe **properties** and **methods**. I suggest you review [this section](https://jakevdp.github.io/PythonDataScienceHandbook/03.02-data-indexing-and-selection.html) as you move through the following prompts. "
   ]
  },
  {
   "cell_type": "code",
   "execution_count": 8,
   "metadata": {},
   "outputs": [],
   "source": [
    "# What is the _shape_ of the dataframe?"
   ]
  },
  {
   "cell_type": "code",
   "execution_count": 9,
   "metadata": {},
   "outputs": [],
   "source": [
    "# What is the maximum house price in 2018 (hint: use the `.max()` method)"
   ]
  },
  {
   "cell_type": "code",
   "execution_count": 10,
   "metadata": {},
   "outputs": [],
   "source": [
    "# What are the summary statistics of the dataframe (hint: use the `.describe()` method)"
   ]
  },
  {
   "cell_type": "code",
   "execution_count": 11,
   "metadata": {},
   "outputs": [],
   "source": [
    "# What was the median house price in 2018 (hint: use the `.median()` method)"
   ]
  },
  {
   "cell_type": "code",
   "execution_count": 12,
   "metadata": {},
   "outputs": [],
   "source": [
    "# In which neighborhood was the cheapest house in 2010?\n",
    "# Hint: you can subset a dataframe using df[df.col == value]"
   ]
  },
  {
   "cell_type": "markdown",
   "metadata": {},
   "source": [
    "## Aggregating data\n",
    "Just like `dplyr`, pandas has a `groupby` method in which you can _group_ a dataframe by a column of interest, and then _aggregate_ (`agg`) your columns using a given function (i.e., `mean`, `sum`, `median`, etc.). Note, this will create a row `index` (i.e., row name) for your dataframe. See [this section](https://jakevdp.github.io/PythonDataScienceHandbook/03.08-aggregation-and-grouping.html) for details."
   ]
  },
  {
   "cell_type": "code",
   "execution_count": 13,
   "metadata": {},
   "outputs": [],
   "source": [
    "# What was the median home price _in each neighborhood_ in each year? \n",
    "# Create a new variable of these values."
   ]
  },
  {
   "cell_type": "code",
   "execution_count": 14,
   "metadata": {},
   "outputs": [],
   "source": [
    "# Get the prices for neighborhood 'b'. \n",
    "# Note, you can now use the df.loc[rows, columns] to select by row name"
   ]
  }
 ],
 "metadata": {
  "kernelspec": {
   "display_name": "Python 3",
   "language": "python",
   "name": "python3"
  },
  "language_info": {
   "codemirror_mode": {
    "name": "ipython",
    "version": 3
   },
   "file_extension": ".py",
   "mimetype": "text/x-python",
   "name": "python",
   "nbconvert_exporter": "python",
   "pygments_lexer": "ipython3",
   "version": "3.6.5"
  }
 },
 "nbformat": 4,
 "nbformat_minor": 2
}
